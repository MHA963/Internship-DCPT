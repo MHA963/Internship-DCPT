{
 "cells": [
  {
   "cell_type": "markdown",
   "metadata": {},
   "source": [
    "# How to use the software"
   ]
  },
  {
   "cell_type": "markdown",
   "metadata": {},
   "source": [
    "After importing the module all we have to do is\n",
    "to specify which hospital and the folders path. <br>\n",
    "The module has can go through 5 structures, which are: <br>  Aarhus, Aalborg , Dresden, Vejle and Odense. <br> \n",
    "you can use the module as shown in the code cells below.s"
   ]
  },
  {
   "cell_type": "code",
   "execution_count": 1,
   "metadata": {},
   "outputs": [
    {
     "name": "stderr",
     "output_type": "stream",
     "text": [
      "c:\\Users\\student\\anaconda3\\envs\\yolo_test_env\\lib\\site-packages\\numpy\\_distributor_init.py:30: UserWarning: loaded more than 1 DLL from .libs:\n",
      "c:\\Users\\student\\anaconda3\\envs\\yolo_test_env\\lib\\site-packages\\numpy\\.libs\\libopenblas.FB5AE2TYXYH2IJRDKGDGQ3XBKLKTF43H.gfortran-win_amd64.dll\n",
      "c:\\Users\\student\\anaconda3\\envs\\yolo_test_env\\lib\\site-packages\\numpy\\.libs\\libopenblas64__v0.3.21-gcc_10_3_0.dll\n",
      "  warnings.warn(\"loaded more than 1 DLL from .libs:\"\n"
     ]
    }
   ],
   "source": [
    "import Image_extraction as ie"
   ]
  },
  {
   "cell_type": "markdown",
   "metadata": {},
   "source": [
    "### Aalborg"
   ]
  },
  {
   "cell_type": "code",
   "execution_count": null,
   "metadata": {},
   "outputs": [],
   "source": [
    "#Define input and output directories, hospital structure, and info file\n",
    "input_dir = \"C:/Users/student/Desktop/images/processed_images/Aalborg_processed/armsUp\"\n",
    "output_dir = \"C:/Users/student/Desktop/images/Module_test/Aalborg/armsUp\"\n",
    "hospital_structure = \"Aalborg\"\n",
    "info_file = \"E:/Jasper/DBCGRT/Dataset/Aalborg/BCCT HYPO Aalborg 03.2018.xlsx\"\n",
    "# Call the sorting and renaming function\n",
    "ie.sort_and_rename_images(input_dir, output_dir,\n",
    "                          info_file, hospital_structure)"
   ]
  },
  {
   "cell_type": "code",
   "execution_count": null,
   "metadata": {},
   "outputs": [],
   "source": [
    "input_dir = \"C:/Users/student/Desktop/images/processed_images/Aalborg_processed/armsDown\"\n",
    "output_dir = \"C:/Users/student/Desktop/images/Module_test/Aalborg/armsDown\"\n",
    "hospital_structure = \"Aalborg\"\n",
    "info_file = \"E:/Jasper/DBCGRT/Dataset/Aalborg/BCCT HYPO Aalborg 03.2018.xlsx\"\n",
    " \n",
    "# Call the sorting and renaming function\n",
    "ie.sort_and_rename_images(input_dir, output_dir,\n",
    "                          info_file, hospital_structure)"
   ]
  },
  {
   "cell_type": "code",
   "execution_count": null,
   "metadata": {},
   "outputs": [],
   "source": [
    "input_dir = \"C:/Users/student/Desktop/images/processed_images/Aalborg_processed/Side\"\n",
    "output_dir = \"C:/Users/student/Desktop/images/Module_test/Aalborg/Side\"\n",
    "hospital_structure = \"Aalborg\"\n",
    "info_file = \"E:/Jasper/DBCGRT/Dataset/Aalborg/BCCT HYPO Aalborg 03.2018.xlsx\"\n",
    "# Call the sorting and renaming function\n",
    "ie.sort_and_rename_images(input_dir, output_dir,\n",
    "                          info_file, hospital_structure)"
   ]
  },
  {
   "cell_type": "markdown",
   "metadata": {},
   "source": [
    "### Vejle"
   ]
  },
  {
   "cell_type": "code",
   "execution_count": null,
   "metadata": {},
   "outputs": [],
   "source": [
    "#Define input and output directories, hospital structure, and info file\n",
    "input_dir = \"C:/Users/student/Desktop/images/processed_images/Vejle_processed/armsDown\"\n",
    "output_dir = \"C:/Users/student/Desktop/images/Module_test/Vejle/armsDown\"\n",
    "hospital_structure = \"Vejle\"\n",
    "info_file = \"E:/Jasper/DBCGRT/Dataset/Vejle/BCCT HYPO Vejle 03.2018 2.xlsx\"\n",
    "\n",
    "ie.sort_and_rename_images(input_dir, output_dir,\n",
    "                          info_file, hospital_structure)"
   ]
  },
  {
   "cell_type": "code",
   "execution_count": null,
   "metadata": {},
   "outputs": [],
   "source": [
    "#Define input and output directories, hospital structure, and info file\n",
    "input_dir = \"C:/Users/student/Desktop/images/processed_images/Vejle_processed/armsUp\"\n",
    "output_dir = \"C:/Users/student/Desktop/images/Module_test/Vejle/armsUp\"\n",
    "hospital_structure = \"Vejle\"\n",
    "info_file = \"E:/Jasper/DBCGRT/Dataset/Vejle/BCCT HYPO Vejle 03.2018 2.xlsx\"\n",
    "\n",
    "ie.sort_and_rename_images(input_dir, output_dir,\n",
    "                          info_file, hospital_structure)"
   ]
  },
  {
   "cell_type": "code",
   "execution_count": null,
   "metadata": {},
   "outputs": [],
   "source": [
    "#Define input and output directories, hospital structure, and info file\n",
    "input_dir = \"C:/Users/student/Desktop/images/processed_images/Vejle_processed/Side\"\n",
    "output_dir = \"C:/Users/student/Desktop/images/Module_test/Vejle/Side\"\n",
    "hospital_structure = \"Vejle\"\n",
    "info_file = \"E:/Jasper/DBCGRT/Dataset/Vejle/BCCT HYPO Vejle 03.2018 2.xlsx\"\n",
    "\n",
    "ie.sort_and_rename_images(input_dir, output_dir,\n",
    "                          info_file, hospital_structure)\n"
   ]
  },
  {
   "cell_type": "markdown",
   "metadata": {},
   "source": [
    "### Odense"
   ]
  },
  {
   "cell_type": "code",
   "execution_count": null,
   "metadata": {},
   "outputs": [],
   "source": [
    "#Define input and output directories, hospital structure, and info file\n",
    "input_dir = \"C:/Users/student/Desktop/images/processed_images/Odense_processed/armsDown\"\n",
    "output_dir = \"C:/Users/student/Desktop/images/Module_test/Odense/armsDown\"\n",
    "hospital_structure = \"Odense\"\n",
    "info_file = \"E:/Jasper/DBCGRT/Dataset/Odense/BCCT HYPO Odense 03.2018 2.xlsx\"\n",
    "\n",
    "ie.sort_and_rename_images(input_dir, output_dir,\n",
    "                          info_file, hospital_structure)"
   ]
  },
  {
   "cell_type": "code",
   "execution_count": null,
   "metadata": {},
   "outputs": [],
   "source": [
    "#Define input and output directories, hospital structure, and info file\n",
    "input_dir = \"C:/Users/student/Desktop/images/processed_images/Odense_processed/armsUp\"\n",
    "output_dir = \"C:/Users/student/Desktop/images/Module_test/Odense/armsUp\"\n",
    "hospital_structure = \"Odense\"\n",
    "info_file = \"E:/Jasper/DBCGRT/Dataset/Odense/BCCT HYPO Odense 03.2018 2.xlsx\"\n",
    "\n",
    "ie.sort_and_rename_images(input_dir, output_dir,\n",
    "                          info_file, hospital_structure)"
   ]
  },
  {
   "cell_type": "code",
   "execution_count": 3,
   "metadata": {},
   "outputs": [
    {
     "name": "stdout",
     "output_type": "stream",
     "text": [
      "Warning: No valid dates for randomization number 160860 in 160860 101029 arme op jpg.jpg\n",
      "Warning: No valid dates for randomization number 422030 in 422030 140220 arme op.jpg\n",
      "Warning: No valid dates for randomization number 0 in 425043 arme op.jpg\n",
      "Sorting and renaming completed.\n"
     ]
    }
   ],
   "source": [
    "#Define input and output directories, hospital structure, and info file\n",
    "input_dir = \"C:/Users/student/Desktop/images/processed_images/Odense_processed/Side\"\n",
    "output_dir = \"C:/Users/student/Desktop/images/Module_test/Odense/Side\"\n",
    "hospital_structure = \"Odense\"\n",
    "info_file = \"E:/Jasper/DBCGRT/Dataset/Odense/BCCT HYPO Odense 03.2018 2.xlsx\"\n",
    "\n",
    "ie.sort_and_rename_images(input_dir, output_dir,\n",
    "                          info_file, hospital_structure)"
   ]
  },
  {
   "cell_type": "markdown",
   "metadata": {},
   "source": [
    "### Dresden"
   ]
  },
  {
   "cell_type": "code",
   "execution_count": null,
   "metadata": {},
   "outputs": [],
   "source": [
    "#Define input and output directories, hospital structure, and info file\n",
    "input_dir = \"C:/Users/student/Desktop/images/processed_images/Dresden_processed/armsDown\"\n",
    "output_dir = \"C:/Users/student/Desktop/images/Module_test/Dresden/armsDown\"\n",
    "hospital_structure = \"Dresden\"\n",
    "info_file = \"E:/Jasper/DBCGRT/Dataset/Dresden CGC/BCCT HYPO Dresden 03.2018 2.xlsx\"\n",
    "\n",
    "ie.sort_and_rename_images(input_dir, output_dir,\n",
    "                          info_file, hospital_structure)"
   ]
  },
  {
   "cell_type": "code",
   "execution_count": null,
   "metadata": {},
   "outputs": [],
   "source": [
    "#Define input and output directories, hospital structure, and info file\n",
    "input_dir = \"C:/Users/student/Desktop/images/processed_images/Dresden_processed/armsUp\"\n",
    "output_dir = \"C:/Users/student/Desktop/images/Module_test/Dresden/armsUp\"\n",
    "hospital_structure = \"Dresden\"\n",
    "info_file = \"E:/Jasper/DBCGRT/Dataset/Dresden CGC/BCCT HYPO Dresden 03.2018 2.xlsx\"\n",
    "\n",
    "ie.sort_and_rename_images(input_dir, output_dir,\n",
    "                          info_file, hospital_structure)"
   ]
  },
  {
   "cell_type": "code",
   "execution_count": null,
   "metadata": {},
   "outputs": [],
   "source": [
    "#Define input and output directories, hospital structure, and info file\n",
    "input_dir = \"C:/Users/student/Desktop/images/processed_images/Dresden_processed/Side\"\n",
    "output_dir = \"C:/Users/student/Desktop/images/Module_test/Dresden/Side\"\n",
    "hospital_structure = \"Dresden\"\n",
    "info_file = \"E:/Jasper/DBCGRT/Dataset/Dresden CGC/BCCT HYPO Dresden 03.2018 2.xlsx\"\n",
    "\n",
    "ie.sort_and_rename_images(input_dir, output_dir,\n",
    "                          info_file, hospital_structure)"
   ]
  },
  {
   "cell_type": "markdown",
   "metadata": {},
   "source": [
    "### Aarhus\n"
   ]
  },
  {
   "cell_type": "code",
   "execution_count": null,
   "metadata": {},
   "outputs": [],
   "source": [
    "input_dir = \"C:/Users/student/Desktop/images/processed_images/Aarhus_processed/armsDown\"\n",
    "output_dir = \"C:/Users/student/Desktop/images/Module_test/Aarhus/armsDown\"\n",
    "hospital_structure = \"Aarhus\"\n",
    "info_file = \"E:/Jasper/DBCGRT/Dataset/Aarhus/BCCT HYPO Aarhus 03.2018 2.xlsx\"\n",
    "\n",
    "ie.sort_and_rename_images(input_dir, output_dir,\n",
    "                          info_file, hospital_structure)"
   ]
  },
  {
   "cell_type": "code",
   "execution_count": 2,
   "metadata": {},
   "outputs": [
    {
     "ename": "UnboundLocalError",
     "evalue": "local variable 'randomization_number' referenced before assignment",
     "output_type": "error",
     "traceback": [
      "\u001b[1;31m---------------------------------------------------------------------------\u001b[0m",
      "\u001b[1;31mUnboundLocalError\u001b[0m                         Traceback (most recent call last)",
      "\u001b[1;32mc:\\Users\\student\\Desktop\\images\\Classifier\\Sorting\\export.ipynb Cell 20\u001b[0m line \u001b[0;36m6\n\u001b[0;32m      <a href='vscode-notebook-cell:/c%3A/Users/student/Desktop/images/Classifier/Sorting/export.ipynb#X25sZmlsZQ%3D%3D?line=2'>3</a>\u001b[0m hospital_structure \u001b[39m=\u001b[39m \u001b[39m\"\u001b[39m\u001b[39mAarhus\u001b[39m\u001b[39m\"\u001b[39m\n\u001b[0;32m      <a href='vscode-notebook-cell:/c%3A/Users/student/Desktop/images/Classifier/Sorting/export.ipynb#X25sZmlsZQ%3D%3D?line=3'>4</a>\u001b[0m info_file \u001b[39m=\u001b[39m \u001b[39m\"\u001b[39m\u001b[39mE:/Jasper/DBCGRT/Dataset/Aarhus/BCCT HYPO Aarhus 03.2018 2.xlsx\u001b[39m\u001b[39m\"\u001b[39m\n\u001b[1;32m----> <a href='vscode-notebook-cell:/c%3A/Users/student/Desktop/images/Classifier/Sorting/export.ipynb#X25sZmlsZQ%3D%3D?line=5'>6</a>\u001b[0m ie\u001b[39m.\u001b[39;49msort_and_rename_images(input_dir, output_dir,\n\u001b[0;32m      <a href='vscode-notebook-cell:/c%3A/Users/student/Desktop/images/Classifier/Sorting/export.ipynb#X25sZmlsZQ%3D%3D?line=6'>7</a>\u001b[0m                           info_file, hospital_structure)\n",
      "File \u001b[1;32mc:\\Users\\student\\Desktop\\images\\Classifier\\Sorting\\Image_extraction.py:302\u001b[0m, in \u001b[0;36msort_and_rename_images\u001b[1;34m(input_dir, output_dir, info_file, hospital_structure)\u001b[0m\n\u001b[0;32m    300\u001b[0m         other_path \u001b[39m=\u001b[39m os\u001b[39m.\u001b[39mpath\u001b[39m.\u001b[39mjoin(other_dir, file)\n\u001b[0;32m    301\u001b[0m         shutil\u001b[39m.\u001b[39mcopy2(os\u001b[39m.\u001b[39mpath\u001b[39m.\u001b[39mjoin(root, file), other_path)\n\u001b[1;32m--> 302\u001b[0m         \u001b[39mprint\u001b[39m(\u001b[39mf\u001b[39m\u001b[39m\"\u001b[39m\u001b[39mWarning: No valid dates for Patient\u001b[39m\u001b[39m{\u001b[39;00mpatientBD\u001b[39m}\u001b[39;00m\u001b[39m With RN \u001b[39m\u001b[39m{\u001b[39;00mrandomization_number\u001b[39m}\u001b[39;00m\u001b[39m in \u001b[39m\u001b[39m{\u001b[39;00mfile\u001b[39m}\u001b[39;00m\u001b[39m\"\u001b[39m)\n\u001b[0;32m    304\u001b[0m \u001b[39melif\u001b[39;00m hospital_structure \u001b[39m==\u001b[39m \u001b[39m'\u001b[39m\u001b[39mOdense\u001b[39m\u001b[39m'\u001b[39m:\n\u001b[0;32m    305\u001b[0m         randomization_number, date \u001b[39m=\u001b[39m extract_info_from_filename(file, hospital_structure)\n",
      "\u001b[1;31mUnboundLocalError\u001b[0m: local variable 'randomization_number' referenced before assignment"
     ]
    }
   ],
   "source": [
    "input_dir = \"C:/Users/student/Desktop/images/processed_images/Aarhus_processed/armsUp\"\n",
    "output_dir = \"C:/Users/student/Desktop/images/Module_test/Aarhus/armsUp\"\n",
    "hospital_structure = \"Aarhus\"\n",
    "info_file = \"E:/Jasper/DBCGRT/Dataset/Aarhus/BCCT HYPO Aarhus 03.2018 2.xlsx\"\n",
    "\n",
    "ie.sort_and_rename_images(input_dir, output_dir,\n",
    "                          info_file, hospital_structure)"
   ]
  },
  {
   "cell_type": "code",
   "execution_count": 2,
   "metadata": {},
   "outputs": [
    {
     "name": "stdout",
     "output_type": "stream",
     "text": [
      "Warning: No valid dates for Patient2 070440 in 070440 -år 3 (2).JPG\n",
      "Warning: No valid dates for PatientNone in 1 år efter RT (1).JPG\n",
      "Warning: No valid dates for PatientNone in 1 år efter RT (2).JPG\n",
      "Warning: No valid dates for PatientNone in 1 års kontrol (1).JPG\n",
      "Warning: No valid dates for Patient2 110568 in 110568. 5 år (2).JPG\n",
      "Warning: No valid dates for Patient2 170648 in 170648 - 0 år (2).JPG\n",
      "Warning: No valid dates for Patient2 180149 in 180149 2 år (2).JPG\n",
      "Warning: No valid dates for Patientår 180149 in 180149 4 år.JPG\n",
      "Warning: No valid dates for Patient1 180752 in 180752 4. år (1).JPG\n",
      "Warning: No valid dates for PatientNone in 1års kontrol (2).JPG\n",
      "Warning: No valid dates for PatientNone in 2 år efter RT (1).JPG\n",
      "Warning: No valid dates for PatientNone in 2 år efter RT (2).JPG\n",
      "Warning: No valid dates for PatientNone in 2 år efter RT.JPG\n",
      "Warning: No valid dates for PatientNone in 2 års kontrol (1).JPG\n",
      "Warning: No valid dates for Patientår 211149 in 211149 - 1 år.JPG\n",
      "Warning: No valid dates for Patient2år 230459 in 230459 2.år.JPG\n",
      "Warning: No valid dates for Patient1 240944 in 240944 - 1 år (1).JPG\n",
      "Warning: No valid dates for PatientNone in 3 år efter RT (2).JPG\n",
      "Warning: No valid dates for PatientNone in 3 år efter RT.JPG\n",
      "Warning: No valid dates for Patientgb 110752 in A-GB 110752 1 års (2).JPG\n",
      "Warning: No valid dates for Patientaag 120147 in AAG 120147 0 år (8).JPG\n",
      "Warning: No valid dates for Patientaag 120147 in AAG 120147 1 år (1).JPG\n",
      "Warning: No valid dates for Patientaag 120147 in AAG 120147 2 år (4).JPG\n",
      "Warning: No valid dates for Patientaag 120147 in AAG 120147 3 år (12).JPG\n",
      "Warning: No valid dates for Patientaag 120147 in AAG 120147 4 år (14).JPG\n",
      "Warning: No valid dates for Patientaaj 120647 in AaJ 120647 - 2 år (2).JPG\n",
      "Warning: No valid dates for Patientaaml 110242 in AaML 110242 - 2 år (2).JPG\n",
      "Warning: No valid dates for Patientaaml 110242 in AaMl 110242 -1 år (2).JPG\n",
      "Warning: No valid dates for Patientaaml 110242 in AaML 110242-3 år.JPG\n",
      "Warning: No valid dates for Patientaas 041068 in AAS 041068-3 år.JPG\n",
      "Warning: No valid dates for Patientab 120653 in AB 120653 1 år.JPG\n",
      "Warning: No valid dates for Patientab 120653 in AB 120653 2 år.JPG\n",
      "Warning: No valid dates for Patientab 120653 in AB 120653 3 år (2).JPG\n",
      "Warning: No valid dates for Patientab 120653 in AB 120653 4.år (2).JPG\n",
      "Warning: No valid dates for Patientab 120653 in AB 120653 5 år (2).JPG\n",
      "Warning: No valid dates for Patientabb 081060 in ABB 081060 - 0 år (2).JPG\n",
      "Warning: No valid dates for Patientabb 081060 in ABB 081060 1 år.JPG\n",
      "Warning: No valid dates for Patientabh 090146 in ABH 090146 - 5 år.JPG\n",
      "Warning: No valid dates for PatientNone in ABS220956 3 år.JPG\n",
      "Warning: No valid dates for PatientNone in ABS220956 5 år (1).JPG\n",
      "Warning: No valid dates for Patientac 270446 in AC 270446 - 1 år (2).JPG\n",
      "Warning: No valid dates for PatientNone in adl260455 1år (2).JPG\n",
      "Warning: No valid dates for PatientNone in ADL260455 5 år (2).JPG\n",
      "Warning: No valid dates for PatientNone in AG120147 3 år (1).JPG\n",
      "Warning: No valid dates for Patientagk 040449 in AGK 040449 2. år.JPG\n",
      "Warning: No valid dates for Patientagn 261047 in AGN 261047 2 år.JPG\n",
      "Warning: No valid dates for Patientagv 220237 in AGV 220237 3 år (2).JPG\n",
      "Warning: No valid dates for Patientagv 220237 in AGV 220237 4 år (1).JPG\n",
      "Warning: No valid dates for Patientah 040236 in AH 040236 - 3 år.JPG\n",
      "Warning: No valid dates for PatientNone in AH031052 3 år (2).JPG\n",
      "Warning: No valid dates for PatientNone in AH031052.JPG\n",
      "Warning: No valid dates for Patientaj 030855 in AJ 030855 4 år (2).JPG\n",
      "Warning: No valid dates for PatientNone in AJK190666 4 år (2).JPG\n",
      "Warning: No valid dates for PatientNone in AK150349 (2).JPG\n",
      "Warning: No valid dates for PatientNone in AKJ190666 3 år.JPG\n",
      "Warning: No valid dates for PatientNone in AKN240752 1 år.JPG\n",
      "Warning: No valid dates for PatientNone in AKS090854  1 år (1).JPG\n",
      "Warning: No valid dates for PatientNone in ALK080141 4 år.JPG\n",
      "Warning: No valid dates for Patientam 020750 in AM 020750 - 3 år (2).JPG\n",
      "Warning: No valid dates for PatientNone in Am020759 (3).JPG\n",
      "Warning: No valid dates for PatientNone in AM301254 3 år (2).JPG\n",
      "Warning: No valid dates for PatientNone in AMA280631 1 år (2).JPG\n",
      "Warning: No valid dates for PatientNone in Amc070946.JPG\n",
      "Warning: No valid dates for PatientNone in AMH030745 3 år.JPG\n",
      "Warning: No valid dates for PatientNone in AMJ030855 2 års (2).JPG\n",
      "Warning: No valid dates for PatientNone in AMK180357 1 år.JPG\n",
      "Warning: No valid dates for PatientNone in AMK310148 2 år.JPG\n",
      "Warning: No valid dates for PatientNone in AMK310148 5 år (2).JPG\n",
      "Warning: No valid dates for PatientNone in AMM230449 1år (2).JPG\n",
      "Warning: No valid dates for PatientNone in AMO270865 1 år.JPG\n",
      "Warning: No valid dates for PatientNone in AMP040246 2 år.JPG\n",
      "Warning: No valid dates for PatientNone in AMP051247 4 år) (2).JPG\n",
      "Warning: No valid dates for PatientNone in AN140444 1 år.JPG\n",
      "Warning: No valid dates for PatientNone in AN140444 3 år.JPG\n",
      "Warning: No valid dates for Patientanb 090749 in ANB 090749 0 år (2).JPG\n",
      "Warning: No valid dates for Patientaod 220448 in AOD 220448 4.år (2).JPG\n",
      "Warning: No valid dates for Patientap 030740 in AP 030740.JPG\n",
      "Warning: No valid dates for PatientNone in AP030740 1år (1).JPG\n",
      "Warning: No valid dates for Patientark 310148 in ARK 310148 1 års (2).JPG\n",
      "Warning: No valid dates for Patientas 041068 in AS 041068 - 5 år.JPG\n",
      "Warning: No valid dates for PatientNone in AS170851 1 år (2).JPG\n",
      "Warning: No valid dates for PatientNone in asap231250 (3).JPG\n",
      "Warning: No valid dates for PatientNone in asap231250.JPG\n",
      "Warning: No valid dates for PatientNone in ASP131252  2 år (2).JPG\n",
      "Warning: No valid dates for PatientNone in ASP131252 1 år (2).JPG\n",
      "Warning: No valid dates for PatientNone in ASP131252 3 år.JPG\n",
      "Warning: No valid dates for Patientatf 261154 in ATF 261154 0 år.JPG\n",
      "Warning: No valid dates for Patientatj 024055 in ATJ0240557 5 år (2).JPG\n",
      "Warning: No valid dates for Patientatm 110242 in ATM 110242 0 år (2).JPG\n",
      "Warning: No valid dates for Patientawf 050167 in AWF 050167 - 2 år arme op.JPG\n",
      "Warning: No valid dates for PatientNone in BAa221142 (1).JPG\n",
      "Warning: No valid dates for PatientNone in BB160355.JPG\n",
      "Warning: No valid dates for Patientbba 221142 in BBA 221142 - 5 år (2).JPG\n",
      "Warning: No valid dates for Patientbba 221142 in BBA 221142-4 år (1).JPG\n",
      "Warning: No valid dates for Patientbbc 180461 in BBC 180461 1 år (1).JPG\n",
      "Warning: No valid dates for PatientNone in BBJ 17 0964 - 1 år (2).JPG\n",
      "Warning: No valid dates for PatientNone in BC140241 3 år (2).JPG\n",
      "Warning: No valid dates for PatientNone in BC200756 1 år.JPG\n",
      "Warning: No valid dates for Patientbe 080658 in BE 080658 3år.JPG\n",
      "Warning: No valid dates for Patientbe 080658 in BE 080658 4 år (2).JPG\n",
      "Warning: No valid dates for Patientbe 200236 in BE 200236 - 2 år (2).JPG\n",
      "Warning: No valid dates for PatientNone in BE171043 3 år.JPG\n",
      "Warning: No valid dates for PatientNone in BE171043 4 år.JPG\n",
      "Warning: No valid dates for PatientNone in BEO110568 1 år.JPG\n",
      "Warning: No valid dates for PatientNone in BGA030347 1 år (2).JPG\n",
      "Warning: No valid dates for PatientNone in BH150840 1 år (2).JPG\n",
      "Warning: No valid dates for PatientNone in BH150840 3 år (1).JPG\n",
      "Warning: No valid dates for PatientNone in BH150840 4 år.JPG\n",
      "Warning: No valid dates for PatientNone in BJ200650 2 år (1).JPG\n",
      "Warning: No valid dates for PatientNone in BJ200650 før RT start (1).JPG\n",
      "Warning: No valid dates for PatientNone in BJ200650 før RT start.JPG\n",
      "Warning: No valid dates for PatientNone in BJK271256 3 år.JPG\n",
      "Warning: No valid dates for PatientNone in BK260740 5 år (1).JPG\n",
      "Warning: No valid dates for PatientNone in BKR (2).JPG\n",
      "Warning: No valid dates for PatientNone in BL180348 4 . år (1).JPG\n",
      "Warning: No valid dates for Patientbli 091160 in BLI 091160 - 0 år (2).JPG\n",
      "Warning: No valid dates for Patientbli 091160 in BLI 091160 - 1 år.JPG\n",
      "Warning: No valid dates for Patientblm 240140 in BLM 240140 2 år (2).JPG\n",
      "Warning: No valid dates for PatientNone in bln stråleslut (2).JPG\n",
      "Warning: No valid dates for PatientNone in BML240140 1 år.JPG\n",
      "Warning: No valid dates for PatientNone in BMM140547 2 år (2).JPG\n",
      "Warning: No valid dates for Patientbmue 050841 in BMUE 050841 (3).JPG\n",
      "Warning: No valid dates for Patientbmue 050841 in BMUE 050841 2år.JPG\n",
      "Warning: No valid dates for Patientbmue 050841 in BMUE 050841.JPG\n",
      "Warning: No valid dates for PatientNone in BN301065 1 år efter (1).JPG\n",
      "Warning: No valid dates for PatientNone in BN301065 før start.JPG\n",
      "Warning: No valid dates for PatientNone in BP250959 1 år (1).JPG\n",
      "Warning: No valid dates for PatientNone in BR200955 2 år.JPG\n",
      "Warning: No valid dates for PatientNone in BRL280549 5 år (3).JPG\n",
      "Warning: No valid dates for Patientbrm 140746 in BRM 140746 3 år.JPG\n",
      "Warning: No valid dates for PatientNone in BS060542 1 år.JPG\n",
      "Warning: No valid dates for PatientNone in BSA160348  2år (1).JPG\n",
      "Warning: No valid dates for PatientNone in BSA160348 1 år.JPG\n",
      "Warning: No valid dates for PatientNone in BSA160348 3 år (2).JPG\n",
      "Warning: No valid dates for PatientNone in BSA160348 4 år (2).JPG\n",
      "Warning: No valid dates for PatientNone in BSK150845 2 år (1).JPG\n",
      "Warning: No valid dates for PatientNone in BSK150845 3 år.JPG\n",
      "Warning: No valid dates for Patientbue 050841 in BUE 050841-3 år (2).JPG\n",
      "Warning: No valid dates for PatientNone in BV200660 5 år (1).JPG\n",
      "Warning: No valid dates for PatientNone in CAA130837 4 år (1).JPG\n",
      "Warning: No valid dates for PatientNone in CCH300559 (1).JPG\n",
      "Warning: No valid dates for Patientcgc 210252 in CGC 210252 3 år.JPG\n",
      "Warning: No valid dates for Patientcgc 210252 in CGC 210252 4. år (2).JPG\n",
      "Warning: No valid dates for PatientNone in CH230269 1 år (2).JPG\n",
      "Warning: No valid dates for PatientNone in Før RT (1).JPG\n",
      "Warning: No valid dates for PatientNone in Før RT (2).JPG\n",
      "Warning: No valid dates for Patientrt 190666 in Før RT 190666 (2).JPG\n",
      "Warning: No valid dates for PatientNone in Før RT.JPG\n",
      "Warning: No valid dates for PatientNone in IMG_0316.JPG\n",
      "Warning: No valid dates for PatientNone in IMG_0323.JPG\n",
      "Warning: No valid dates for PatientNone in IMG_0556.JPG\n",
      "Warning: No valid dates for PatientNone in IMG_1068.JPG\n",
      "Warning: No valid dates for PatientNone in IMG_1120.JPG\n",
      "Warning: No valid dates for PatientNone in IMG_1121.JPG\n",
      "Warning: No valid dates for PatientNone in IMG_1131.JPG\n",
      "Warning: No valid dates for PatientNone in IMG_1132.JPG\n",
      "Warning: No valid dates for PatientNone in IMG_1150.JPG\n",
      "Warning: No valid dates for PatientNone in IMG_1347.JPG\n",
      "Warning: No valid dates for PatientNone in IMG_1400.JPG\n",
      "Warning: No valid dates for PatientNone in IMG_1631.JPG\n",
      "Warning: No valid dates for PatientNone in IMG_3076.JPG\n",
      "Warning: No valid dates for PatientNone in IMG_3173.JPG\n",
      "Warning: No valid dates for PatientNone in IMG_3223.JPG\n",
      "Warning: No valid dates for PatientNone in IMG_5501.JPG\n",
      "Warning: No valid dates for PatientNone in IMG_8605.JPG\n",
      "Warning: No valid dates for Patientkb 230635 in KB 230635 - 0 år.JPG\n",
      "Warning: No valid dates for Patientkrj 120565 in KRJ 120565 2 år.JPG\n",
      "Warning: No valid dates for Patientpl 180161 in PL 180161 - 1 år.JPG\n",
      "Warning: No valid dates for Patientpl 180161 in PL 180161 - 2 år (2).JPG\n",
      "Warning: No valid dates for PatientNone in PL180161 (700005).JPG\n",
      "Warning: No valid dates for Patientpsl 180161 in PSL 180161- 3 år (1).JPG\n",
      "Warning: No valid dates for Patientpsl 180161 in PSL 180161-4 år.JPG\n",
      "Warning: No valid dates for Patientånp 250344 in ÅNP 250344 (1).JPG\n",
      "Warning: No valid dates for Patientånp 250344 in ÅNP 250344 2 år (1).JPG\n",
      "Sorting and renaming completed.\n"
     ]
    }
   ],
   "source": [
    "input_dir = \"C:/Users/student/Desktop/images/processed_images/Aarhus_processed/Side\"\n",
    "output_dir = \"C:/Users/student/Desktop/images/Module_test/Aarhus/Side\"\n",
    "hospital_structure = \"Aarhus\"\n",
    "info_file = \"E:/Jasper/DBCGRT/Dataset/Aarhus/BCCT HYPO Aarhus 03.2018 2.xlsx\"\n",
    "\n",
    "ie.sort_and_rename_images(input_dir, output_dir,\n",
    "                          info_file, hospital_structure)"
   ]
  }
 ],
 "metadata": {
  "kernelspec": {
   "display_name": "Python 3",
   "language": "python",
   "name": "python3"
  },
  "language_info": {
   "codemirror_mode": {
    "name": "ipython",
    "version": 3
   },
   "file_extension": ".py",
   "mimetype": "text/x-python",
   "name": "python",
   "nbconvert_exporter": "python",
   "pygments_lexer": "ipython3",
   "version": "3.9.12"
  },
  "orig_nbformat": 4
 },
 "nbformat": 4,
 "nbformat_minor": 2
}
